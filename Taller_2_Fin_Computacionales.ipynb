{
  "nbformat": 4,
  "nbformat_minor": 0,
  "metadata": {
    "colab": {
      "provenance": []
    },
    "kernelspec": {
      "name": "python3",
      "display_name": "Python 3"
    },
    "language_info": {
      "name": "python"
    }
  },
  "cells": [
    {
      "cell_type": "markdown",
      "source": [
        "#Taller 2\n",
        "\n",
        "\n",
        "*   Roberto José Ávila Moreno\n",
        "*   Salim Abou-Ammar Garcia\n",
        "\n"
      ],
      "metadata": {
        "id": "xGojiB203x7R"
      }
    },
    {
      "cell_type": "code",
      "execution_count": null,
      "metadata": {
        "id": "8w1lKwLk3mUj"
      },
      "outputs": [],
      "source": [
        "# Import packages.\n",
        "import cvxpy as cp\n",
        "import numpy as np\n",
        "import pandas as pd\n",
        "import matplotlib.pyplot as plt\n",
        "from scipy.optimize import minimize\n",
        "from scipy.optimize import linprog"
      ]
    },
    {
      "cell_type": "markdown",
      "source": [
        "##Punto 1"
      ],
      "metadata": {
        "id": "4yGW8tH048ZY"
      }
    },
    {
      "cell_type": "markdown",
      "source": [
        "$$ Max. Ganancia = 3A+5B$$\n",
        "$$Suj. Produccion:$$\n",
        "$$1A+1B≤500$$\n",
        "$$2A+4B≤1000$$\n",
        "$$1A+2B≤2000$$\n",
        "$$A+0(B)≥100$$\n",
        "$$0(A)+B≥150$$"
      ],
      "metadata": {
        "id": "m1i5ZdUA7iZn"
      }
    },
    {
      "cell_type": "code",
      "source": [
        "#Funcion Objetivo\n",
        "C2 = np.array([3,5])\n",
        "\n",
        "\n",
        "#Restricciones de Desigualdad\n",
        "A2 = np.array([[1,1],\n",
        "               [2,4],\n",
        "                [1,2],\n",
        "               [-1,0],\n",
        "               [0,-1]])\n",
        "\n",
        "B2 = np.array([500,1000,2000,-100,-150])\n",
        "\n",
        "\n",
        "#Solución\n",
        "solucion = linprog(-C2, A_ub=A2, b_ub=B2, method='revised simplex')\n",
        "solucion"
      ],
      "metadata": {
        "colab": {
          "base_uri": "https://localhost:8080/"
        },
        "id": "3zVGVNMotX2Y",
        "outputId": "d798b577-66e4-4ca4-e756-1184e61c8750"
      },
      "execution_count": null,
      "outputs": [
        {
          "output_type": "stream",
          "name": "stderr",
          "text": [
            "<ipython-input-33-019a4ec91441>:16: DeprecationWarning: `method='revised simplex'` is deprecated and will be removed in SciPy 1.11.0. Please use one of the HiGHS solvers (e.g. `method='highs'`) in new code.\n",
            "  solucion = linprog(-C2, A_ub=A2, b_ub=B2, method='revised simplex')\n"
          ]
        },
        {
          "output_type": "execute_result",
          "data": {
            "text/plain": [
              " message: Optimization terminated successfully.\n",
              " success: True\n",
              "  status: 0\n",
              "     fun: -1350.0\n",
              "       x: [ 2.000e+02  1.500e+02]\n",
              "     nit: 2"
            ]
          },
          "metadata": {},
          "execution_count": 33
        }
      ]
    },
    {
      "cell_type": "markdown",
      "source": [
        "Ganancias Maximas Totales, interpretadas en valor absoluto."
      ],
      "metadata": {
        "id": "vNngj9pO0hCs"
      }
    },
    {
      "cell_type": "code",
      "source": [
        "-solucion.fun"
      ],
      "metadata": {
        "colab": {
          "base_uri": "https://localhost:8080/"
        },
        "id": "8Am5ZoFxt1tP",
        "outputId": "0326ed94-a91d-4140-dc98-9e93a88a94f2"
      },
      "execution_count": null,
      "outputs": [
        {
          "output_type": "execute_result",
          "data": {
            "text/plain": [
              "1350.0"
            ]
          },
          "metadata": {},
          "execution_count": 35
        }
      ]
    },
    {
      "cell_type": "code",
      "source": [
        "Resultados_1 = pd.DataFrame(solucion.x)\n",
        "Resultados_1 = Resultados_1.rename(columns={0:'Cantidades'})\n",
        "Resultados_1 = Resultados_1.set_axis(['A', 'B'], axis=0)\n",
        "Resultados_1"
      ],
      "metadata": {
        "colab": {
          "base_uri": "https://localhost:8080/",
          "height": 112
        },
        "id": "LbghnV-6ELmQ",
        "outputId": "831f5be6-9a0d-442e-9971-c7b70ea0cefc"
      },
      "execution_count": null,
      "outputs": [
        {
          "output_type": "execute_result",
          "data": {
            "text/plain": [
              "   Cantidades\n",
              "A       200.0\n",
              "B       150.0"
            ],
            "text/html": [
              "\n",
              "  <div id=\"df-2519bbd5-2fa5-4fec-9c93-9a9f8792dc40\">\n",
              "    <div class=\"colab-df-container\">\n",
              "      <div>\n",
              "<style scoped>\n",
              "    .dataframe tbody tr th:only-of-type {\n",
              "        vertical-align: middle;\n",
              "    }\n",
              "\n",
              "    .dataframe tbody tr th {\n",
              "        vertical-align: top;\n",
              "    }\n",
              "\n",
              "    .dataframe thead th {\n",
              "        text-align: right;\n",
              "    }\n",
              "</style>\n",
              "<table border=\"1\" class=\"dataframe\">\n",
              "  <thead>\n",
              "    <tr style=\"text-align: right;\">\n",
              "      <th></th>\n",
              "      <th>Cantidades</th>\n",
              "    </tr>\n",
              "  </thead>\n",
              "  <tbody>\n",
              "    <tr>\n",
              "      <th>A</th>\n",
              "      <td>200.0</td>\n",
              "    </tr>\n",
              "    <tr>\n",
              "      <th>B</th>\n",
              "      <td>150.0</td>\n",
              "    </tr>\n",
              "  </tbody>\n",
              "</table>\n",
              "</div>\n",
              "      <button class=\"colab-df-convert\" onclick=\"convertToInteractive('df-2519bbd5-2fa5-4fec-9c93-9a9f8792dc40')\"\n",
              "              title=\"Convert this dataframe to an interactive table.\"\n",
              "              style=\"display:none;\">\n",
              "        \n",
              "  <svg xmlns=\"http://www.w3.org/2000/svg\" height=\"24px\"viewBox=\"0 0 24 24\"\n",
              "       width=\"24px\">\n",
              "    <path d=\"M0 0h24v24H0V0z\" fill=\"none\"/>\n",
              "    <path d=\"M18.56 5.44l.94 2.06.94-2.06 2.06-.94-2.06-.94-.94-2.06-.94 2.06-2.06.94zm-11 1L8.5 8.5l.94-2.06 2.06-.94-2.06-.94L8.5 2.5l-.94 2.06-2.06.94zm10 10l.94 2.06.94-2.06 2.06-.94-2.06-.94-.94-2.06-.94 2.06-2.06.94z\"/><path d=\"M17.41 7.96l-1.37-1.37c-.4-.4-.92-.59-1.43-.59-.52 0-1.04.2-1.43.59L10.3 9.45l-7.72 7.72c-.78.78-.78 2.05 0 2.83L4 21.41c.39.39.9.59 1.41.59.51 0 1.02-.2 1.41-.59l7.78-7.78 2.81-2.81c.8-.78.8-2.07 0-2.86zM5.41 20L4 18.59l7.72-7.72 1.47 1.35L5.41 20z\"/>\n",
              "  </svg>\n",
              "      </button>\n",
              "      \n",
              "  <style>\n",
              "    .colab-df-container {\n",
              "      display:flex;\n",
              "      flex-wrap:wrap;\n",
              "      gap: 12px;\n",
              "    }\n",
              "\n",
              "    .colab-df-convert {\n",
              "      background-color: #E8F0FE;\n",
              "      border: none;\n",
              "      border-radius: 50%;\n",
              "      cursor: pointer;\n",
              "      display: none;\n",
              "      fill: #1967D2;\n",
              "      height: 32px;\n",
              "      padding: 0 0 0 0;\n",
              "      width: 32px;\n",
              "    }\n",
              "\n",
              "    .colab-df-convert:hover {\n",
              "      background-color: #E2EBFA;\n",
              "      box-shadow: 0px 1px 2px rgba(60, 64, 67, 0.3), 0px 1px 3px 1px rgba(60, 64, 67, 0.15);\n",
              "      fill: #174EA6;\n",
              "    }\n",
              "\n",
              "    [theme=dark] .colab-df-convert {\n",
              "      background-color: #3B4455;\n",
              "      fill: #D2E3FC;\n",
              "    }\n",
              "\n",
              "    [theme=dark] .colab-df-convert:hover {\n",
              "      background-color: #434B5C;\n",
              "      box-shadow: 0px 1px 3px 1px rgba(0, 0, 0, 0.15);\n",
              "      filter: drop-shadow(0px 1px 2px rgba(0, 0, 0, 0.3));\n",
              "      fill: #FFFFFF;\n",
              "    }\n",
              "  </style>\n",
              "\n",
              "      <script>\n",
              "        const buttonEl =\n",
              "          document.querySelector('#df-2519bbd5-2fa5-4fec-9c93-9a9f8792dc40 button.colab-df-convert');\n",
              "        buttonEl.style.display =\n",
              "          google.colab.kernel.accessAllowed ? 'block' : 'none';\n",
              "\n",
              "        async function convertToInteractive(key) {\n",
              "          const element = document.querySelector('#df-2519bbd5-2fa5-4fec-9c93-9a9f8792dc40');\n",
              "          const dataTable =\n",
              "            await google.colab.kernel.invokeFunction('convertToInteractive',\n",
              "                                                     [key], {});\n",
              "          if (!dataTable) return;\n",
              "\n",
              "          const docLinkHtml = 'Like what you see? Visit the ' +\n",
              "            '<a target=\"_blank\" href=https://colab.research.google.com/notebooks/data_table.ipynb>data table notebook</a>'\n",
              "            + ' to learn more about interactive tables.';\n",
              "          element.innerHTML = '';\n",
              "          dataTable['output_type'] = 'display_data';\n",
              "          await google.colab.output.renderOutput(dataTable, element);\n",
              "          const docLink = document.createElement('div');\n",
              "          docLink.innerHTML = docLinkHtml;\n",
              "          element.appendChild(docLink);\n",
              "        }\n",
              "      </script>\n",
              "    </div>\n",
              "  </div>\n",
              "  "
            ]
          },
          "metadata": {},
          "execution_count": 36
        }
      ]
    },
    {
      "cell_type": "markdown",
      "source": [
        "La asignación optima que permite maximizar la ganancia de la empresa, teniendo en cuenta las restricciones, es de 200 cantidades de A y 150 cantidades de B. Para este caso con dicha asignación obtenemos una ganancia de $1,350"
      ],
      "metadata": {
        "id": "fPTqjy5gZm6Q"
      }
    },
    {
      "cell_type": "markdown",
      "source": [
        "##Punto 2"
      ],
      "metadata": {
        "id": "vT5yeNMl4-mA"
      }
    },
    {
      "cell_type": "markdown",
      "source": [
        "$$Max. Retorno = 0.10𝑥1+0.15𝑥2+0.16𝑥3+0.08𝑥4$$\n",
        "\n",
        "$$0.5 𝑥1 + 0.3 𝑥2 + 0.25 𝑥3 + 0.6 𝑥4 ≥ 0.35 (valor)$$\n",
        "$$0.3 𝑥1 + 0.1 𝑥2 + 0.4 𝑥3 + 0.2 𝑥4 ≥ 0.30 (tamaño)$$\n",
        "$$0.2 𝑥1 + 0.6 𝑥2 + 0.35 𝑥3 + 0.2 𝑥4 ≥ 0.15 (liquidez)$$\n",
        "$$𝑥1 + 𝑥2 + 𝑥3 + 𝑥4 = $100$$\n",
        "$$𝑥1, 𝑥2, 𝑥3, 𝑥4 ≥ 0$$"
      ],
      "metadata": {
        "id": "BqyGx798sN2w"
      }
    },
    {
      "cell_type": "markdown",
      "source": [
        "###Metodo Scipy"
      ],
      "metadata": {
        "id": "BlnZ6XDIonWS"
      }
    },
    {
      "cell_type": "markdown",
      "source": [
        "ub = desigualdad /\n",
        "eq = igualdad"
      ],
      "metadata": {
        "id": "L6J0HANSrq3p"
      }
    },
    {
      "cell_type": "code",
      "source": [
        "#Funcion Objetivo\n",
        "Obj = np.array([0.10,0.15,0.16,0.08])\n",
        "\n",
        "\n",
        "#Restricciones de Desigualdad\n",
        "R1 = np.array([[0.5,0.3,0.25,0.6],\n",
        "               [0.3,0.1,0.4,0.2],\n",
        "               [0.2,0.6,0.35,0.2]\n",
        "               ])\n",
        "\n",
        "\n",
        "#Restricciones de Igualdad\n",
        "R2 = np.array([[1,1,1,1]\n",
        "               ])\n",
        "\n",
        "# Linprog Arroja resultados no negativos, por lo que no hay que poner esta restriccion\n",
        "\n",
        "#Resultados\n",
        "Res1 = np.array([35,30,15]) #En la misma unidad de medida\n",
        "Res2 = np.array([100])\n",
        "\n",
        "\n",
        "#Solución\n",
        "solucion = linprog(-Obj, A_ub=-R1, b_ub=-Res1, A_eq=R2, b_eq=Res2, method='revised simplex') # -R1 decir al menos (mayor o igual) (limite inferior) \n",
        "solucion"
      ],
      "metadata": {
        "colab": {
          "base_uri": "https://localhost:8080/"
        },
        "id": "gz0mIypVsPLD",
        "outputId": "23f8be61-9788-4d2b-9b36-7b8fc2960a8c"
      },
      "execution_count": null,
      "outputs": [
        {
          "output_type": "stream",
          "name": "stderr",
          "text": [
            "<ipython-input-37-20c4e8159bac>:24: DeprecationWarning: `method='revised simplex'` is deprecated and will be removed in SciPy 1.11.0. Please use one of the HiGHS solvers (e.g. `method='highs'`) in new code.\n",
            "  solucion = linprog(-Obj, A_ub=-R1, b_ub=-Res1, A_eq=R2, b_eq=Res2, method='revised simplex') # -R1 decir al menos (mayor o igual) (limite inferior)\n"
          ]
        },
        {
          "output_type": "execute_result",
          "data": {
            "text/plain": [
              " message: Optimization terminated successfully.\n",
              " success: True\n",
              "  status: 0\n",
              "     fun: -13.736842105263158\n",
              "       x: [ 0.000e+00  1.579e+01  5.789e+01  2.632e+01]\n",
              "     nit: 7"
            ]
          },
          "metadata": {},
          "execution_count": 37
        }
      ]
    },
    {
      "cell_type": "markdown",
      "source": [
        "Retorno Esperado Maximo, Interpretado en valor absoluto (En pesos)"
      ],
      "metadata": {
        "id": "ddUcSoUXdfhV"
      }
    },
    {
      "cell_type": "code",
      "source": [
        "-solucion.fun"
      ],
      "metadata": {
        "colab": {
          "base_uri": "https://localhost:8080/"
        },
        "id": "xQ0FXa6Vdbb2",
        "outputId": "5c9eb0d0-0726-4f13-9dad-69bfd233bde0"
      },
      "execution_count": null,
      "outputs": [
        {
          "output_type": "execute_result",
          "data": {
            "text/plain": [
              "13.736842105263158"
            ]
          },
          "metadata": {},
          "execution_count": 38
        }
      ]
    },
    {
      "cell_type": "code",
      "source": [
        "Resultados_2 = pd.DataFrame(solucion.x)\n",
        "Resultados_2 = Resultados_2.rename(columns={0:'Pesos'})\n",
        "Resultados_2 = Resultados_2.set_axis(['W Fondo 1', 'W Fondo 2','W Fondo 3','W Fondo 4'], axis=0)\n",
        "Resultados_2"
      ],
      "metadata": {
        "colab": {
          "base_uri": "https://localhost:8080/",
          "height": 175
        },
        "id": "zUtIPEBcdX2l",
        "outputId": "ba9b44e9-1fdd-4ea6-e54d-7c710f6edfb0"
      },
      "execution_count": null,
      "outputs": [
        {
          "output_type": "execute_result",
          "data": {
            "text/plain": [
              "               Pesos\n",
              "W Fondo 1   0.000000\n",
              "W Fondo 2  15.789474\n",
              "W Fondo 3  57.894737\n",
              "W Fondo 4  26.315789"
            ],
            "text/html": [
              "\n",
              "  <div id=\"df-7e718c43-6276-408e-8e3e-b2ac28284320\">\n",
              "    <div class=\"colab-df-container\">\n",
              "      <div>\n",
              "<style scoped>\n",
              "    .dataframe tbody tr th:only-of-type {\n",
              "        vertical-align: middle;\n",
              "    }\n",
              "\n",
              "    .dataframe tbody tr th {\n",
              "        vertical-align: top;\n",
              "    }\n",
              "\n",
              "    .dataframe thead th {\n",
              "        text-align: right;\n",
              "    }\n",
              "</style>\n",
              "<table border=\"1\" class=\"dataframe\">\n",
              "  <thead>\n",
              "    <tr style=\"text-align: right;\">\n",
              "      <th></th>\n",
              "      <th>Pesos</th>\n",
              "    </tr>\n",
              "  </thead>\n",
              "  <tbody>\n",
              "    <tr>\n",
              "      <th>W Fondo 1</th>\n",
              "      <td>0.000000</td>\n",
              "    </tr>\n",
              "    <tr>\n",
              "      <th>W Fondo 2</th>\n",
              "      <td>15.789474</td>\n",
              "    </tr>\n",
              "    <tr>\n",
              "      <th>W Fondo 3</th>\n",
              "      <td>57.894737</td>\n",
              "    </tr>\n",
              "    <tr>\n",
              "      <th>W Fondo 4</th>\n",
              "      <td>26.315789</td>\n",
              "    </tr>\n",
              "  </tbody>\n",
              "</table>\n",
              "</div>\n",
              "      <button class=\"colab-df-convert\" onclick=\"convertToInteractive('df-7e718c43-6276-408e-8e3e-b2ac28284320')\"\n",
              "              title=\"Convert this dataframe to an interactive table.\"\n",
              "              style=\"display:none;\">\n",
              "        \n",
              "  <svg xmlns=\"http://www.w3.org/2000/svg\" height=\"24px\"viewBox=\"0 0 24 24\"\n",
              "       width=\"24px\">\n",
              "    <path d=\"M0 0h24v24H0V0z\" fill=\"none\"/>\n",
              "    <path d=\"M18.56 5.44l.94 2.06.94-2.06 2.06-.94-2.06-.94-.94-2.06-.94 2.06-2.06.94zm-11 1L8.5 8.5l.94-2.06 2.06-.94-2.06-.94L8.5 2.5l-.94 2.06-2.06.94zm10 10l.94 2.06.94-2.06 2.06-.94-2.06-.94-.94-2.06-.94 2.06-2.06.94z\"/><path d=\"M17.41 7.96l-1.37-1.37c-.4-.4-.92-.59-1.43-.59-.52 0-1.04.2-1.43.59L10.3 9.45l-7.72 7.72c-.78.78-.78 2.05 0 2.83L4 21.41c.39.39.9.59 1.41.59.51 0 1.02-.2 1.41-.59l7.78-7.78 2.81-2.81c.8-.78.8-2.07 0-2.86zM5.41 20L4 18.59l7.72-7.72 1.47 1.35L5.41 20z\"/>\n",
              "  </svg>\n",
              "      </button>\n",
              "      \n",
              "  <style>\n",
              "    .colab-df-container {\n",
              "      display:flex;\n",
              "      flex-wrap:wrap;\n",
              "      gap: 12px;\n",
              "    }\n",
              "\n",
              "    .colab-df-convert {\n",
              "      background-color: #E8F0FE;\n",
              "      border: none;\n",
              "      border-radius: 50%;\n",
              "      cursor: pointer;\n",
              "      display: none;\n",
              "      fill: #1967D2;\n",
              "      height: 32px;\n",
              "      padding: 0 0 0 0;\n",
              "      width: 32px;\n",
              "    }\n",
              "\n",
              "    .colab-df-convert:hover {\n",
              "      background-color: #E2EBFA;\n",
              "      box-shadow: 0px 1px 2px rgba(60, 64, 67, 0.3), 0px 1px 3px 1px rgba(60, 64, 67, 0.15);\n",
              "      fill: #174EA6;\n",
              "    }\n",
              "\n",
              "    [theme=dark] .colab-df-convert {\n",
              "      background-color: #3B4455;\n",
              "      fill: #D2E3FC;\n",
              "    }\n",
              "\n",
              "    [theme=dark] .colab-df-convert:hover {\n",
              "      background-color: #434B5C;\n",
              "      box-shadow: 0px 1px 3px 1px rgba(0, 0, 0, 0.15);\n",
              "      filter: drop-shadow(0px 1px 2px rgba(0, 0, 0, 0.3));\n",
              "      fill: #FFFFFF;\n",
              "    }\n",
              "  </style>\n",
              "\n",
              "      <script>\n",
              "        const buttonEl =\n",
              "          document.querySelector('#df-7e718c43-6276-408e-8e3e-b2ac28284320 button.colab-df-convert');\n",
              "        buttonEl.style.display =\n",
              "          google.colab.kernel.accessAllowed ? 'block' : 'none';\n",
              "\n",
              "        async function convertToInteractive(key) {\n",
              "          const element = document.querySelector('#df-7e718c43-6276-408e-8e3e-b2ac28284320');\n",
              "          const dataTable =\n",
              "            await google.colab.kernel.invokeFunction('convertToInteractive',\n",
              "                                                     [key], {});\n",
              "          if (!dataTable) return;\n",
              "\n",
              "          const docLinkHtml = 'Like what you see? Visit the ' +\n",
              "            '<a target=\"_blank\" href=https://colab.research.google.com/notebooks/data_table.ipynb>data table notebook</a>'\n",
              "            + ' to learn more about interactive tables.';\n",
              "          element.innerHTML = '';\n",
              "          dataTable['output_type'] = 'display_data';\n",
              "          await google.colab.output.renderOutput(dataTable, element);\n",
              "          const docLink = document.createElement('div');\n",
              "          docLink.innerHTML = docLinkHtml;\n",
              "          element.appendChild(docLink);\n",
              "        }\n",
              "      </script>\n",
              "    </div>\n",
              "  </div>\n",
              "  "
            ]
          },
          "metadata": {},
          "execution_count": 39
        }
      ]
    },
    {
      "cell_type": "markdown",
      "source": [
        "###Metodo CVXPY"
      ],
      "metadata": {
        "id": "DwTOHIF6ou3K"
      }
    },
    {
      "cell_type": "code",
      "source": [
        "# Define and solve the CVXPY problem.\n",
        "n = 4 #numero de incognitas\n",
        "x = cp.Variable(n) #vector x con el n de incognitas\n",
        "objective = cp.Minimize(-Obj@x) #Lo que hare con la funcion objetivo, que en este caso es maximizar (min negativo)\n",
        "contraints = [R1@x >= Res1,cp.sum(x)==100,x>=0] #Restricciones\n",
        "prob = cp.Problem(objective, contraints)\n",
        "\n",
        "#Result\n",
        "resultado = prob.solve()\n",
        "\n",
        "#Valores optimos de x\n",
        "x_valores = x.value\n",
        "x_solucion = pd.DataFrame(x.value)\n",
        "print(round(x_solucion,2))"
      ],
      "metadata": {
        "colab": {
          "base_uri": "https://localhost:8080/"
        },
        "id": "KLebsqF-0LwL",
        "outputId": "f95e067c-c358-4b0c-8ca6-9fdb6a267725"
      },
      "execution_count": null,
      "outputs": [
        {
          "output_type": "stream",
          "name": "stdout",
          "text": [
            "       0\n",
            "0   0.00\n",
            "1  15.79\n",
            "2  57.89\n",
            "3  26.32\n"
          ]
        }
      ]
    },
    {
      "cell_type": "markdown",
      "source": [
        "Como fue comprobado con los 2 metodos, la asginacion ideal de pesos a cada fondo, para lograr maximizar el retorno y teniendo encuenta las restricciones, es de 0 para el fondo 1, de 15.79 para el fondo 2, de 57.89 para el fondo 3 y de 26.32 para el fondo 4."
      ],
      "metadata": {
        "id": "pcJ-mGDKe6_g"
      }
    },
    {
      "cell_type": "markdown",
      "source": [
        "##Punto 3"
      ],
      "metadata": {
        "id": "13bOIOx15AA1"
      }
    },
    {
      "cell_type": "markdown",
      "source": [
        "$$Max.z6$$\n",
        "\n",
        "$$Suj.Producción$$\n",
        "$$x_1+y_1-z_1=150$$\n",
        "$$x_2+y_2-1.01x_1+1.003z_1-z_2=150$$\n",
        "$$x_3+y_3-1.01x_2+1.003z_2-z_3=-200$$\n",
        "$$x_4-1.02y_1-1.01x_3+1.003z_3-z_4=200$$\n",
        "$$x_5-1.02y_2-1.01x_4+1.003z_4-z_5=-50$$\n",
        "$$-1.02y_3-1.01x_5+1.003z_5-z_6=-300$$"
      ],
      "metadata": {
        "id": "ktXKD623FAy9"
      }
    },
    {
      "cell_type": "markdown",
      "source": [
        "###Metodo Scipy"
      ],
      "metadata": {
        "id": "HvGwavomFSVe"
      }
    },
    {
      "cell_type": "code",
      "source": [
        "#Funcion objetivo\n",
        "\n",
        "C3 = np.array([0,0,0,0,0,0,0,0,0,0,0,0,0,1])\n",
        "\n",
        "##Restricciones de igualdad\n",
        "\n",
        "A2 = np.array([[1,0,0,0,0,1,0,0,-1,0,0,0,0,0],\n",
        "               [-1.01,1,0,0,0,0,1,0,1.003,-1,0,0,0,0],\n",
        "               [0,-1.01,1,0,0,0,0,1,0,1.003,-1,0,0,0],\n",
        "               [0,0,-1.01,1,0,-1.02,0,0,0,0,1.003,-1,0,0],\n",
        "               [0,0,0,-1.01,1,0,-1.02,0,0,0,0,1.003,-1,0],\n",
        "               [0,0,0,0,-1.01,0,0,-1.02,0,0,0,0,1.003,-1]\n",
        "               ])\n",
        "\n",
        "\n",
        "B2 = np.array([150,100,-200,200,-50,-300])\n",
        "\n",
        "#Solución\n",
        "solucion = linprog(-C3,A_eq=A2, b_eq=B2, method='revised simplex')\n",
        "solucion"
      ],
      "metadata": {
        "id": "P2lRN2uZ5Gyi",
        "colab": {
          "base_uri": "https://localhost:8080/"
        },
        "outputId": "7154ef47-8dd0-450b-bab9-16ae5c2e819b"
      },
      "execution_count": null,
      "outputs": [
        {
          "output_type": "stream",
          "name": "stderr",
          "text": [
            "<ipython-input-13-d3c50de919aa>:19: DeprecationWarning: `method='revised simplex'` is deprecated and will be removed in SciPy 1.11.0. Please use one of the HiGHS solvers (e.g. `method='highs'`) in new code.\n",
            "  solucion = linprog(-C3,A_eq=A2, b_eq=B2, method='revised simplex')\n"
          ]
        },
        {
          "output_type": "execute_result",
          "data": {
            "text/plain": [
              " message: Optimization terminated successfully.\n",
              " success: True\n",
              "  status: 0\n",
              "     fun: -92.49694915254233\n",
              "       x: [ 0.000e+00  5.098e+01 ...  0.000e+00  9.250e+01]\n",
              "     nit: 6"
            ]
          },
          "metadata": {},
          "execution_count": 13
        }
      ]
    },
    {
      "cell_type": "code",
      "source": [
        "-solucion.fun"
      ],
      "metadata": {
        "colab": {
          "base_uri": "https://localhost:8080/"
        },
        "id": "FFckFnEJFKTk",
        "outputId": "df31665b-5a1d-40dd-8be1-0017db346837"
      },
      "execution_count": null,
      "outputs": [
        {
          "output_type": "execute_result",
          "data": {
            "text/plain": [
              "-92.49694915254233"
            ]
          },
          "metadata": {},
          "execution_count": 10
        }
      ]
    },
    {
      "cell_type": "code",
      "source": [
        "pd.DataFrame(solucion.x)"
      ],
      "metadata": {
        "colab": {
          "base_uri": "https://localhost:8080/",
          "height": 488
        },
        "id": "8ZxcBxhnFJ4R",
        "outputId": "0181a27a-7ceb-4ef2-9c6d-4f1dfd50e21f"
      },
      "execution_count": null,
      "outputs": [
        {
          "output_type": "execute_result",
          "data": {
            "text/plain": [
              "             0\n",
              "0     0.000000\n",
              "1    50.980392\n",
              "2     0.000000\n",
              "3     0.000000\n",
              "4     0.000000\n",
              "5   150.000000\n",
              "6    49.019608\n",
              "7   203.434364\n",
              "8     0.000000\n",
              "9     0.000000\n",
              "10  351.944167\n",
              "11    0.000000\n",
              "12    0.000000\n",
              "13   92.496949"
            ],
            "text/html": [
              "\n",
              "  <div id=\"df-a7030ef1-3bcb-4e70-bd11-21d0c15ac3d2\">\n",
              "    <div class=\"colab-df-container\">\n",
              "      <div>\n",
              "<style scoped>\n",
              "    .dataframe tbody tr th:only-of-type {\n",
              "        vertical-align: middle;\n",
              "    }\n",
              "\n",
              "    .dataframe tbody tr th {\n",
              "        vertical-align: top;\n",
              "    }\n",
              "\n",
              "    .dataframe thead th {\n",
              "        text-align: right;\n",
              "    }\n",
              "</style>\n",
              "<table border=\"1\" class=\"dataframe\">\n",
              "  <thead>\n",
              "    <tr style=\"text-align: right;\">\n",
              "      <th></th>\n",
              "      <th>0</th>\n",
              "    </tr>\n",
              "  </thead>\n",
              "  <tbody>\n",
              "    <tr>\n",
              "      <th>0</th>\n",
              "      <td>0.000000</td>\n",
              "    </tr>\n",
              "    <tr>\n",
              "      <th>1</th>\n",
              "      <td>50.980392</td>\n",
              "    </tr>\n",
              "    <tr>\n",
              "      <th>2</th>\n",
              "      <td>0.000000</td>\n",
              "    </tr>\n",
              "    <tr>\n",
              "      <th>3</th>\n",
              "      <td>0.000000</td>\n",
              "    </tr>\n",
              "    <tr>\n",
              "      <th>4</th>\n",
              "      <td>0.000000</td>\n",
              "    </tr>\n",
              "    <tr>\n",
              "      <th>5</th>\n",
              "      <td>150.000000</td>\n",
              "    </tr>\n",
              "    <tr>\n",
              "      <th>6</th>\n",
              "      <td>49.019608</td>\n",
              "    </tr>\n",
              "    <tr>\n",
              "      <th>7</th>\n",
              "      <td>203.434364</td>\n",
              "    </tr>\n",
              "    <tr>\n",
              "      <th>8</th>\n",
              "      <td>0.000000</td>\n",
              "    </tr>\n",
              "    <tr>\n",
              "      <th>9</th>\n",
              "      <td>0.000000</td>\n",
              "    </tr>\n",
              "    <tr>\n",
              "      <th>10</th>\n",
              "      <td>351.944167</td>\n",
              "    </tr>\n",
              "    <tr>\n",
              "      <th>11</th>\n",
              "      <td>0.000000</td>\n",
              "    </tr>\n",
              "    <tr>\n",
              "      <th>12</th>\n",
              "      <td>0.000000</td>\n",
              "    </tr>\n",
              "    <tr>\n",
              "      <th>13</th>\n",
              "      <td>92.496949</td>\n",
              "    </tr>\n",
              "  </tbody>\n",
              "</table>\n",
              "</div>\n",
              "      <button class=\"colab-df-convert\" onclick=\"convertToInteractive('df-a7030ef1-3bcb-4e70-bd11-21d0c15ac3d2')\"\n",
              "              title=\"Convert this dataframe to an interactive table.\"\n",
              "              style=\"display:none;\">\n",
              "        \n",
              "  <svg xmlns=\"http://www.w3.org/2000/svg\" height=\"24px\"viewBox=\"0 0 24 24\"\n",
              "       width=\"24px\">\n",
              "    <path d=\"M0 0h24v24H0V0z\" fill=\"none\"/>\n",
              "    <path d=\"M18.56 5.44l.94 2.06.94-2.06 2.06-.94-2.06-.94-.94-2.06-.94 2.06-2.06.94zm-11 1L8.5 8.5l.94-2.06 2.06-.94-2.06-.94L8.5 2.5l-.94 2.06-2.06.94zm10 10l.94 2.06.94-2.06 2.06-.94-2.06-.94-.94-2.06-.94 2.06-2.06.94z\"/><path d=\"M17.41 7.96l-1.37-1.37c-.4-.4-.92-.59-1.43-.59-.52 0-1.04.2-1.43.59L10.3 9.45l-7.72 7.72c-.78.78-.78 2.05 0 2.83L4 21.41c.39.39.9.59 1.41.59.51 0 1.02-.2 1.41-.59l7.78-7.78 2.81-2.81c.8-.78.8-2.07 0-2.86zM5.41 20L4 18.59l7.72-7.72 1.47 1.35L5.41 20z\"/>\n",
              "  </svg>\n",
              "      </button>\n",
              "      \n",
              "  <style>\n",
              "    .colab-df-container {\n",
              "      display:flex;\n",
              "      flex-wrap:wrap;\n",
              "      gap: 12px;\n",
              "    }\n",
              "\n",
              "    .colab-df-convert {\n",
              "      background-color: #E8F0FE;\n",
              "      border: none;\n",
              "      border-radius: 50%;\n",
              "      cursor: pointer;\n",
              "      display: none;\n",
              "      fill: #1967D2;\n",
              "      height: 32px;\n",
              "      padding: 0 0 0 0;\n",
              "      width: 32px;\n",
              "    }\n",
              "\n",
              "    .colab-df-convert:hover {\n",
              "      background-color: #E2EBFA;\n",
              "      box-shadow: 0px 1px 2px rgba(60, 64, 67, 0.3), 0px 1px 3px 1px rgba(60, 64, 67, 0.15);\n",
              "      fill: #174EA6;\n",
              "    }\n",
              "\n",
              "    [theme=dark] .colab-df-convert {\n",
              "      background-color: #3B4455;\n",
              "      fill: #D2E3FC;\n",
              "    }\n",
              "\n",
              "    [theme=dark] .colab-df-convert:hover {\n",
              "      background-color: #434B5C;\n",
              "      box-shadow: 0px 1px 3px 1px rgba(0, 0, 0, 0.15);\n",
              "      filter: drop-shadow(0px 1px 2px rgba(0, 0, 0, 0.3));\n",
              "      fill: #FFFFFF;\n",
              "    }\n",
              "  </style>\n",
              "\n",
              "      <script>\n",
              "        const buttonEl =\n",
              "          document.querySelector('#df-a7030ef1-3bcb-4e70-bd11-21d0c15ac3d2 button.colab-df-convert');\n",
              "        buttonEl.style.display =\n",
              "          google.colab.kernel.accessAllowed ? 'block' : 'none';\n",
              "\n",
              "        async function convertToInteractive(key) {\n",
              "          const element = document.querySelector('#df-a7030ef1-3bcb-4e70-bd11-21d0c15ac3d2');\n",
              "          const dataTable =\n",
              "            await google.colab.kernel.invokeFunction('convertToInteractive',\n",
              "                                                     [key], {});\n",
              "          if (!dataTable) return;\n",
              "\n",
              "          const docLinkHtml = 'Like what you see? Visit the ' +\n",
              "            '<a target=\"_blank\" href=https://colab.research.google.com/notebooks/data_table.ipynb>data table notebook</a>'\n",
              "            + ' to learn more about interactive tables.';\n",
              "          element.innerHTML = '';\n",
              "          dataTable['output_type'] = 'display_data';\n",
              "          await google.colab.output.renderOutput(dataTable, element);\n",
              "          const docLink = document.createElement('div');\n",
              "          docLink.innerHTML = docLinkHtml;\n",
              "          element.appendChild(docLink);\n",
              "        }\n",
              "      </script>\n",
              "    </div>\n",
              "  </div>\n",
              "  "
            ]
          },
          "metadata": {},
          "execution_count": 14
        }
      ]
    },
    {
      "cell_type": "markdown",
      "source": [
        "###Metodo CVXPY"
      ],
      "metadata": {
        "id": "aIbkL6UbFVic"
      }
    },
    {
      "cell_type": "code",
      "source": [
        "# Define and solve the CVXPY problem.\n",
        "n = 14 #numero de incognitas\n",
        "x = cp.Variable(n) #vector x con el n de incognitas\n",
        "objective = cp.Minimize(-C3@x) #Lo que hare con la funcion objetivo, que en este caso es maximizar (min negativo)\n",
        "contraints = [A2@x == B2, x>=0] #Restricciones X son cantidades de dinero, si lo x son negativos tengo que especificar eso.\n",
        "prob = cp.Problem(objective, contraints)\n",
        "\n",
        "#Result\n",
        "resultado = prob.solve(solver=cp.GLPK_MI)\n",
        "\n",
        "#Valores optimos de x\n",
        "x_valores = x.value\n",
        "x_solucion = pd.DataFrame(x.value)\n",
        "print(round(x_solucion,2))"
      ],
      "metadata": {
        "colab": {
          "base_uri": "https://localhost:8080/"
        },
        "id": "lgGRfGE4FVAC",
        "outputId": "4f068186-209a-4eee-d262-ff2ee89b109e"
      },
      "execution_count": null,
      "outputs": [
        {
          "output_type": "stream",
          "name": "stdout",
          "text": [
            "         0\n",
            "0    -0.00\n",
            "1    50.98\n",
            "2    -0.00\n",
            "3    -0.00\n",
            "4    -0.00\n",
            "5   150.00\n",
            "6    49.02\n",
            "7   203.43\n",
            "8    -0.00\n",
            "9    -0.00\n",
            "10  351.94\n",
            "11   -0.00\n",
            "12   -0.00\n",
            "13   92.50\n"
          ]
        }
      ]
    },
    {
      "cell_type": "markdown",
      "source": [
        "Como se evidencia con la ayuda de los dos metodos, se necesita 92.50 para maximizar el saldo de los fondos en el mes 6, con respecto a las restricciones requeridasd cada mes."
      ],
      "metadata": {
        "id": "EFKA8d_9ZdeZ"
      }
    },
    {
      "cell_type": "markdown",
      "source": [
        "##Punto 4"
      ],
      "metadata": {
        "id": "IdpL2D155HdS"
      }
    },
    {
      "cell_type": "markdown",
      "source": [
        "$$Max. Rentabilidad$$\n",
        "$$Suj: diff (ent + salidas)$$\n",
        "$$semana 1 = x + y = 150$$\n",
        "\n",
        "$$semana 2 = (-y*0.001) + x2 + y2 = 100$$\n",
        "\n",
        "$$semana 3 =  (-y2*0.001) + x3 + y3 = -50$$\n",
        "\n",
        "$$semana 4 =  (-y3*0.001) + x4 + y4 = 200$$"
      ],
      "metadata": {
        "id": "a6CXT5LI3AWj"
      }
    },
    {
      "cell_type": "code",
      "source": [
        "C4 = np.array([0,0,0,0,0,0,0,1])\n",
        "ren4 = (1+0.0001)**7\n",
        "A4 = np.array([[1,0,0,0,-1,0,0,0],\n",
        "               [0,1,0,0,ren4,-1,0,0],\n",
        "               [0,0,1,0,0,ren4,-1,0],\n",
        "               [0,0,0,1,0,0,ren4,-1,]])\n",
        "b4 = np.array([[150,-100,-50,200]])\n",
        "r4 = linprog(-C4, A_ub=A4, b_ub=-b4, method='revised simplex')\n",
        "r4"
      ],
      "metadata": {
        "colab": {
          "base_uri": "https://localhost:8080/"
        },
        "id": "YvVorZ1fFzmz",
        "outputId": "1f79ec18-703a-4578-aff6-c2d86cfa13a1"
      },
      "execution_count": null,
      "outputs": [
        {
          "output_type": "stream",
          "name": "stderr",
          "text": [
            "<ipython-input-56-58eebd34be23>:8: DeprecationWarning: `method='revised simplex'` is deprecated and will be removed in SciPy 1.11.0. Please use one of the HiGHS solvers (e.g. `method='highs'`) in new code.\n",
            "  r4 = linprog(-C4, A_ub=A4, b_ub=-b4, method='revised simplex')\n"
          ]
        },
        {
          "output_type": "execute_result",
          "data": {
            "text/plain": [
              " message: The problem is unbounded, as the simplex algorithm found a basic feasible solution from which there is a direction with negative reduced cost in which all decision variables increase.\n",
              " success: False\n",
              "  status: 3\n",
              "     fun: -200.14021366142958\n",
              "       x: [ 0.000e+00  0.000e+00  0.000e+00  0.000e+00  1.500e+02\n",
              "            5.011e+01  1.401e-01  2.001e+02]\n",
              "     nit: 3"
            ]
          },
          "metadata": {},
          "execution_count": 56
        }
      ]
    },
    {
      "cell_type": "code",
      "source": [
        "-r4.fun"
      ],
      "metadata": {
        "colab": {
          "base_uri": "https://localhost:8080/"
        },
        "id": "qY4O3QSyqicZ",
        "outputId": "0ef23c8b-8eb1-4237-e03e-0b2c5e3a8fc0"
      },
      "execution_count": null,
      "outputs": [
        {
          "output_type": "execute_result",
          "data": {
            "text/plain": [
              "200.14021366142958"
            ]
          },
          "metadata": {},
          "execution_count": 59
        }
      ]
    },
    {
      "cell_type": "code",
      "source": [
        "pd.DataFrame(r4.x).T"
      ],
      "metadata": {
        "colab": {
          "base_uri": "https://localhost:8080/",
          "height": 81
        },
        "id": "Qkwyg3ccqLbh",
        "outputId": "cab394a1-20e0-4c06-e63b-17f974d352f5"
      },
      "execution_count": null,
      "outputs": [
        {
          "output_type": "execute_result",
          "data": {
            "text/plain": [
              "     0    1    2    3      4          5         6           7\n",
              "0  0.0  0.0  0.0  0.0  150.0  50.105032  0.140116  200.140214"
            ],
            "text/html": [
              "\n",
              "  <div id=\"df-86af6c81-3629-44b2-ae35-d8a620174046\">\n",
              "    <div class=\"colab-df-container\">\n",
              "      <div>\n",
              "<style scoped>\n",
              "    .dataframe tbody tr th:only-of-type {\n",
              "        vertical-align: middle;\n",
              "    }\n",
              "\n",
              "    .dataframe tbody tr th {\n",
              "        vertical-align: top;\n",
              "    }\n",
              "\n",
              "    .dataframe thead th {\n",
              "        text-align: right;\n",
              "    }\n",
              "</style>\n",
              "<table border=\"1\" class=\"dataframe\">\n",
              "  <thead>\n",
              "    <tr style=\"text-align: right;\">\n",
              "      <th></th>\n",
              "      <th>0</th>\n",
              "      <th>1</th>\n",
              "      <th>2</th>\n",
              "      <th>3</th>\n",
              "      <th>4</th>\n",
              "      <th>5</th>\n",
              "      <th>6</th>\n",
              "      <th>7</th>\n",
              "    </tr>\n",
              "  </thead>\n",
              "  <tbody>\n",
              "    <tr>\n",
              "      <th>0</th>\n",
              "      <td>0.0</td>\n",
              "      <td>0.0</td>\n",
              "      <td>0.0</td>\n",
              "      <td>0.0</td>\n",
              "      <td>150.0</td>\n",
              "      <td>50.105032</td>\n",
              "      <td>0.140116</td>\n",
              "      <td>200.140214</td>\n",
              "    </tr>\n",
              "  </tbody>\n",
              "</table>\n",
              "</div>\n",
              "      <button class=\"colab-df-convert\" onclick=\"convertToInteractive('df-86af6c81-3629-44b2-ae35-d8a620174046')\"\n",
              "              title=\"Convert this dataframe to an interactive table.\"\n",
              "              style=\"display:none;\">\n",
              "        \n",
              "  <svg xmlns=\"http://www.w3.org/2000/svg\" height=\"24px\"viewBox=\"0 0 24 24\"\n",
              "       width=\"24px\">\n",
              "    <path d=\"M0 0h24v24H0V0z\" fill=\"none\"/>\n",
              "    <path d=\"M18.56 5.44l.94 2.06.94-2.06 2.06-.94-2.06-.94-.94-2.06-.94 2.06-2.06.94zm-11 1L8.5 8.5l.94-2.06 2.06-.94-2.06-.94L8.5 2.5l-.94 2.06-2.06.94zm10 10l.94 2.06.94-2.06 2.06-.94-2.06-.94-.94-2.06-.94 2.06-2.06.94z\"/><path d=\"M17.41 7.96l-1.37-1.37c-.4-.4-.92-.59-1.43-.59-.52 0-1.04.2-1.43.59L10.3 9.45l-7.72 7.72c-.78.78-.78 2.05 0 2.83L4 21.41c.39.39.9.59 1.41.59.51 0 1.02-.2 1.41-.59l7.78-7.78 2.81-2.81c.8-.78.8-2.07 0-2.86zM5.41 20L4 18.59l7.72-7.72 1.47 1.35L5.41 20z\"/>\n",
              "  </svg>\n",
              "      </button>\n",
              "      \n",
              "  <style>\n",
              "    .colab-df-container {\n",
              "      display:flex;\n",
              "      flex-wrap:wrap;\n",
              "      gap: 12px;\n",
              "    }\n",
              "\n",
              "    .colab-df-convert {\n",
              "      background-color: #E8F0FE;\n",
              "      border: none;\n",
              "      border-radius: 50%;\n",
              "      cursor: pointer;\n",
              "      display: none;\n",
              "      fill: #1967D2;\n",
              "      height: 32px;\n",
              "      padding: 0 0 0 0;\n",
              "      width: 32px;\n",
              "    }\n",
              "\n",
              "    .colab-df-convert:hover {\n",
              "      background-color: #E2EBFA;\n",
              "      box-shadow: 0px 1px 2px rgba(60, 64, 67, 0.3), 0px 1px 3px 1px rgba(60, 64, 67, 0.15);\n",
              "      fill: #174EA6;\n",
              "    }\n",
              "\n",
              "    [theme=dark] .colab-df-convert {\n",
              "      background-color: #3B4455;\n",
              "      fill: #D2E3FC;\n",
              "    }\n",
              "\n",
              "    [theme=dark] .colab-df-convert:hover {\n",
              "      background-color: #434B5C;\n",
              "      box-shadow: 0px 1px 3px 1px rgba(0, 0, 0, 0.15);\n",
              "      filter: drop-shadow(0px 1px 2px rgba(0, 0, 0, 0.3));\n",
              "      fill: #FFFFFF;\n",
              "    }\n",
              "  </style>\n",
              "\n",
              "      <script>\n",
              "        const buttonEl =\n",
              "          document.querySelector('#df-86af6c81-3629-44b2-ae35-d8a620174046 button.colab-df-convert');\n",
              "        buttonEl.style.display =\n",
              "          google.colab.kernel.accessAllowed ? 'block' : 'none';\n",
              "\n",
              "        async function convertToInteractive(key) {\n",
              "          const element = document.querySelector('#df-86af6c81-3629-44b2-ae35-d8a620174046');\n",
              "          const dataTable =\n",
              "            await google.colab.kernel.invokeFunction('convertToInteractive',\n",
              "                                                     [key], {});\n",
              "          if (!dataTable) return;\n",
              "\n",
              "          const docLinkHtml = 'Like what you see? Visit the ' +\n",
              "            '<a target=\"_blank\" href=https://colab.research.google.com/notebooks/data_table.ipynb>data table notebook</a>'\n",
              "            + ' to learn more about interactive tables.';\n",
              "          element.innerHTML = '';\n",
              "          dataTable['output_type'] = 'display_data';\n",
              "          await google.colab.output.renderOutput(dataTable, element);\n",
              "          const docLink = document.createElement('div');\n",
              "          docLink.innerHTML = docLinkHtml;\n",
              "          element.appendChild(docLink);\n",
              "        }\n",
              "      </script>\n",
              "    </div>\n",
              "  </div>\n",
              "  "
            ]
          },
          "metadata": {},
          "execution_count": 58
        }
      ]
    },
    {
      "cell_type": "markdown",
      "source": [
        "Para maximizar la rentabilidad total de los saldos en las cuentas teniendo como referencia las restricciones de flujos de efectivo se distribuye asi: 150 para el mes 4, 50.105032 para el mes 5, 0.140616 para el mes 6 y 200.140214 para el mes 7"
      ],
      "metadata": {
        "id": "7CHeCCqDejYj"
      }
    },
    {
      "cell_type": "markdown",
      "source": [
        "##Punto 5"
      ],
      "metadata": {
        "id": "8uB4piiG5JAd"
      }
    },
    {
      "cell_type": "markdown",
      "source": [
        "$$Max. Ganancias = 5𝑥1+8𝑥2+10𝑥3$$\n",
        "\n",
        "\n",
        "$$𝑥1+𝑥2+𝑥3=10.000(Presupuesto)$$\n",
        "$$𝑥1+0+0≥2.000$$\n",
        "$$0+𝑥2+0≥2.000$$\n",
        "$$𝑥1+𝑥2+𝑥3=1.000(Horas. de. Trabajo)$$\n",
        "$$0+𝑥2+0≥300%$$\n",
        "$$0+0+𝑥3≥250$$\n"
      ],
      "metadata": {
        "id": "0gyo2MeK6Bad"
      }
    },
    {
      "cell_type": "markdown",
      "source": [
        "X1=ventas --\n",
        "X2=marketing --\n",
        "X3=producción"
      ],
      "metadata": {
        "id": "egaP9qBK6RCK"
      }
    },
    {
      "cell_type": "code",
      "source": [
        "#Agregar un valor en el vector de desigualdad y en la matriz de desigualdades\n",
        "#Funcion Objetivo\n",
        "Obj = np.array([5,8,10,0,0,0])\n",
        "\n",
        "\n",
        "#Restricciones de Desigualdad (mapear, identificar la variable)\n",
        "R1 = np.array([[1,0,0,0,0,0],\n",
        "               [0,1,0,0,0,0],\n",
        "               [0,0,0,0,1,0],\n",
        "               [0,0,0,0,0,1],\n",
        "               #[#Una linea]\n",
        "               ])\n",
        "\n",
        "#Restricciones de Igualdad\n",
        "R2 = np.array([[0,0,0,1,1,1],\n",
        "               [1,1,1,0,0,0]\n",
        "               ])\n",
        "\n",
        "# Linprog Arroja resultados no negativos, por lo que no hay que poner esta restriccion\n",
        "\n",
        "#Resultados\n",
        "Res1 = np.array([10000*0.2,10000*0.2,1000*0.3,1000*0.25]) #En la misma unidad de medida\n",
        "Res2 = np.array([1000,10000])\n",
        "\n",
        "\n",
        "#Solución\n",
        "solucion = linprog(-Obj, A_ub=-R1, b_ub=-Res1, A_eq=R2, b_eq=Res2, method='simplex') # -R1 decir al menos (mayor o igual) (limite inferior). Trabajar todo  \n",
        "pd.DataFrame(solucion.x)"
      ],
      "metadata": {
        "id": "ju0jE-oi-cbZ"
      },
      "execution_count": null,
      "outputs": []
    },
    {
      "cell_type": "markdown",
      "source": [
        "Ganancia Maxima, Interpretada en valor absoluto (En pesos)"
      ],
      "metadata": {
        "id": "DJV_53S0hfSv"
      }
    },
    {
      "cell_type": "code",
      "source": [
        "-solucion.fun"
      ],
      "metadata": {
        "colab": {
          "base_uri": "https://localhost:8080/"
        },
        "id": "8pegJy9Ggbrp",
        "outputId": "1934f1cf-f8f2-457c-ca9e-2a764260613f"
      },
      "execution_count": null,
      "outputs": [
        {
          "output_type": "execute_result",
          "data": {
            "text/plain": [
              "86000.0"
            ]
          },
          "metadata": {},
          "execution_count": 42
        }
      ]
    },
    {
      "cell_type": "code",
      "source": [
        "Resultados_5 = pd.DataFrame(solucion.x)\n",
        "Resultados_5 = Resultados_5.rename(columns={0:'Resultados'})\n",
        "Resultados_5 = Resultados_5.set_axis(['Presupuesto Ventas', 'Presupuesto Marketing','Presupuesto Producción','Horas de Trabajo Ventas','Horas de Trabajo Marketing','Horas de Trabajo Prudcción'], axis=0)\n",
        "Resultados_5"
      ],
      "metadata": {
        "colab": {
          "base_uri": "https://localhost:8080/",
          "height": 238
        },
        "id": "A65CSCibgaoI",
        "outputId": "837bc281-824a-402a-8dbc-5035a349898c"
      },
      "execution_count": null,
      "outputs": [
        {
          "output_type": "execute_result",
          "data": {
            "text/plain": [
              "                            Resultados\n",
              "Presupuesto Ventas              2000.0\n",
              "Presupuesto Marketing           2000.0\n",
              "Presupuesto Producción          6000.0\n",
              "Horas de Trabajo Ventas          450.0\n",
              "Horas de Trabajo Marketing       300.0\n",
              "Horas de Trabajo Prudcción       250.0"
            ],
            "text/html": [
              "\n",
              "  <div id=\"df-4427d5c3-e901-4609-9675-5e2d35e88e2e\">\n",
              "    <div class=\"colab-df-container\">\n",
              "      <div>\n",
              "<style scoped>\n",
              "    .dataframe tbody tr th:only-of-type {\n",
              "        vertical-align: middle;\n",
              "    }\n",
              "\n",
              "    .dataframe tbody tr th {\n",
              "        vertical-align: top;\n",
              "    }\n",
              "\n",
              "    .dataframe thead th {\n",
              "        text-align: right;\n",
              "    }\n",
              "</style>\n",
              "<table border=\"1\" class=\"dataframe\">\n",
              "  <thead>\n",
              "    <tr style=\"text-align: right;\">\n",
              "      <th></th>\n",
              "      <th>Resultados</th>\n",
              "    </tr>\n",
              "  </thead>\n",
              "  <tbody>\n",
              "    <tr>\n",
              "      <th>Presupuesto Ventas</th>\n",
              "      <td>2000.0</td>\n",
              "    </tr>\n",
              "    <tr>\n",
              "      <th>Presupuesto Marketing</th>\n",
              "      <td>2000.0</td>\n",
              "    </tr>\n",
              "    <tr>\n",
              "      <th>Presupuesto Producción</th>\n",
              "      <td>6000.0</td>\n",
              "    </tr>\n",
              "    <tr>\n",
              "      <th>Horas de Trabajo Ventas</th>\n",
              "      <td>450.0</td>\n",
              "    </tr>\n",
              "    <tr>\n",
              "      <th>Horas de Trabajo Marketing</th>\n",
              "      <td>300.0</td>\n",
              "    </tr>\n",
              "    <tr>\n",
              "      <th>Horas de Trabajo Prudcción</th>\n",
              "      <td>250.0</td>\n",
              "    </tr>\n",
              "  </tbody>\n",
              "</table>\n",
              "</div>\n",
              "      <button class=\"colab-df-convert\" onclick=\"convertToInteractive('df-4427d5c3-e901-4609-9675-5e2d35e88e2e')\"\n",
              "              title=\"Convert this dataframe to an interactive table.\"\n",
              "              style=\"display:none;\">\n",
              "        \n",
              "  <svg xmlns=\"http://www.w3.org/2000/svg\" height=\"24px\"viewBox=\"0 0 24 24\"\n",
              "       width=\"24px\">\n",
              "    <path d=\"M0 0h24v24H0V0z\" fill=\"none\"/>\n",
              "    <path d=\"M18.56 5.44l.94 2.06.94-2.06 2.06-.94-2.06-.94-.94-2.06-.94 2.06-2.06.94zm-11 1L8.5 8.5l.94-2.06 2.06-.94-2.06-.94L8.5 2.5l-.94 2.06-2.06.94zm10 10l.94 2.06.94-2.06 2.06-.94-2.06-.94-.94-2.06-.94 2.06-2.06.94z\"/><path d=\"M17.41 7.96l-1.37-1.37c-.4-.4-.92-.59-1.43-.59-.52 0-1.04.2-1.43.59L10.3 9.45l-7.72 7.72c-.78.78-.78 2.05 0 2.83L4 21.41c.39.39.9.59 1.41.59.51 0 1.02-.2 1.41-.59l7.78-7.78 2.81-2.81c.8-.78.8-2.07 0-2.86zM5.41 20L4 18.59l7.72-7.72 1.47 1.35L5.41 20z\"/>\n",
              "  </svg>\n",
              "      </button>\n",
              "      \n",
              "  <style>\n",
              "    .colab-df-container {\n",
              "      display:flex;\n",
              "      flex-wrap:wrap;\n",
              "      gap: 12px;\n",
              "    }\n",
              "\n",
              "    .colab-df-convert {\n",
              "      background-color: #E8F0FE;\n",
              "      border: none;\n",
              "      border-radius: 50%;\n",
              "      cursor: pointer;\n",
              "      display: none;\n",
              "      fill: #1967D2;\n",
              "      height: 32px;\n",
              "      padding: 0 0 0 0;\n",
              "      width: 32px;\n",
              "    }\n",
              "\n",
              "    .colab-df-convert:hover {\n",
              "      background-color: #E2EBFA;\n",
              "      box-shadow: 0px 1px 2px rgba(60, 64, 67, 0.3), 0px 1px 3px 1px rgba(60, 64, 67, 0.15);\n",
              "      fill: #174EA6;\n",
              "    }\n",
              "\n",
              "    [theme=dark] .colab-df-convert {\n",
              "      background-color: #3B4455;\n",
              "      fill: #D2E3FC;\n",
              "    }\n",
              "\n",
              "    [theme=dark] .colab-df-convert:hover {\n",
              "      background-color: #434B5C;\n",
              "      box-shadow: 0px 1px 3px 1px rgba(0, 0, 0, 0.15);\n",
              "      filter: drop-shadow(0px 1px 2px rgba(0, 0, 0, 0.3));\n",
              "      fill: #FFFFFF;\n",
              "    }\n",
              "  </style>\n",
              "\n",
              "      <script>\n",
              "        const buttonEl =\n",
              "          document.querySelector('#df-4427d5c3-e901-4609-9675-5e2d35e88e2e button.colab-df-convert');\n",
              "        buttonEl.style.display =\n",
              "          google.colab.kernel.accessAllowed ? 'block' : 'none';\n",
              "\n",
              "        async function convertToInteractive(key) {\n",
              "          const element = document.querySelector('#df-4427d5c3-e901-4609-9675-5e2d35e88e2e');\n",
              "          const dataTable =\n",
              "            await google.colab.kernel.invokeFunction('convertToInteractive',\n",
              "                                                     [key], {});\n",
              "          if (!dataTable) return;\n",
              "\n",
              "          const docLinkHtml = 'Like what you see? Visit the ' +\n",
              "            '<a target=\"_blank\" href=https://colab.research.google.com/notebooks/data_table.ipynb>data table notebook</a>'\n",
              "            + ' to learn more about interactive tables.';\n",
              "          element.innerHTML = '';\n",
              "          dataTable['output_type'] = 'display_data';\n",
              "          await google.colab.output.renderOutput(dataTable, element);\n",
              "          const docLink = document.createElement('div');\n",
              "          docLink.innerHTML = docLinkHtml;\n",
              "          element.appendChild(docLink);\n",
              "        }\n",
              "      </script>\n",
              "    </div>\n",
              "  </div>\n",
              "  "
            ]
          },
          "metadata": {},
          "execution_count": 45
        }
      ]
    },
    {
      "cell_type": "markdown",
      "source": [
        "Para obtener una ganancia maxima para la empresa, esta debe hacer las siguientes asignaciones, para el departamento de ventas debera asignar 2,000 del presupuesto total y 450 horas de trabajo, para el departamento de marketing debera asignar 2,000 del presupuesto total y 300 horas de trabajo y por ultimo para el departamento de producción debera asignar 6,000 del presupuesto total y 250 horas de trabajo. Con esto la empresa lograria obtener su maxima ganancia que es de $86,000."
      ],
      "metadata": {
        "id": "f6QtCqwzicEe"
      }
    },
    {
      "cell_type": "markdown",
      "source": [
        "#Punto 6"
      ],
      "metadata": {
        "id": "9LCegVMbv4gC"
      }
    },
    {
      "cell_type": "markdown",
      "source": [
        "$$Min. CostoTotal = Cji * Xji + F_j * Y_i $$\n"
      ],
      "metadata": {
        "id": "2GJxJnjtIVyr"
      }
    },
    {
      "cell_type": "code",
      "source": [
        "#Para hacerlo con CVXPY\n",
        "\n",
        "#Variables booleanas (valores de 0 y 1)\n",
        "#Cantidades no negativas\n",
        "\n",
        "#Funcion Objetivo (Mini)\n",
        "Obj= np.array([[4,5,6,8,10],\n",
        "              [6,4,3,5,8],\n",
        "              [9,7,4,3,4]]) #Gastos de Distribucion\n",
        "Obj2= np.array([1000,1000,1000]) #Gastos de Funcionamiento\n",
        "\n",
        "R3= np.array([500,500,500]) #Cantidades Maximas de produccion por fabrica\n",
        "R4= np.array([80,270,250,160,180]) #Demandas Requeridas\n",
        "\n",
        "\n",
        "x = cp.Variable((3,5), nonneg=True) #Cantidades totales a distribuir. Matriz Obj. Nonneg para no tomar negativos\n",
        "y = cp.Variable(3, boolean=True) #Restriccion de 1000 de funcionamiento para cada planta\n",
        "objective = cp.Minimize((cp.sum(cp.multiply(Obj,x))+(cp.sum(cp.multiply(Obj2,y))))) #Lo que hare con la funcion objetivo, que en este caso es minimizar\n",
        "contraints = [cp.sum(x[0,:])<= R3[0],cp.sum(x[1,:])<= R3[1],cp.sum(x[2,:])<= R3[2],cp.sum(x[:,0])==R4[0],\n",
        "               cp.sum(x[:,1])==R4[1],cp.sum(x[:,2])==R4[2],cp.sum(x[:,3])==R4[3],\n",
        "               cp.sum(x[:,4])==R4[4],x[0,:]==0] #Restricciones\n",
        "\n",
        "prob = cp.Problem(objective, contraints)\n",
        "\n",
        "#Result\n",
        "resultado = prob.solve()\n",
        "\n",
        "#Valores optimos de x\n",
        "x_valores = x.value\n",
        "x_solucion = pd.DataFrame(x.value)\n",
        "print(round(x_solucion,2))"
      ],
      "metadata": {
        "colab": {
          "base_uri": "https://localhost:8080/"
        },
        "id": "HEacjjzFRIRh",
        "outputId": "52480cbc-ddb4-4050-98a7-3bc502825286"
      },
      "execution_count": null,
      "outputs": [
        {
          "output_type": "stream",
          "name": "stdout",
          "text": [
            "      0      1      2      3      4\n",
            "0  -0.0   -0.0   -0.0   -0.0   -0.0\n",
            "1  80.0  270.0  150.0   -0.0   -0.0\n",
            "2  -0.0   -0.0  100.0  160.0  180.0\n"
          ]
        }
      ]
    },
    {
      "cell_type": "code",
      "source": [
        "Resultados_6 = pd.DataFrame(x.value)\n",
        "Resultados_6 = Resultados_6.set_axis(['Planta 1', 'Planta 2','Planta 3'], axis=0)\n",
        "Resultados_6 = Resultados_6.set_axis(['Punto de Demanda 1', 'Punto de Demanda 2','Punto de Demanda 3','Punto de Demanda 4','Punto de Demanda 5'], axis=1)\n",
        "Resultados_6"
      ],
      "metadata": {
        "colab": {
          "base_uri": "https://localhost:8080/",
          "height": 143
        },
        "id": "ShSq78Z9mtf_",
        "outputId": "73b508d1-f67f-43b4-f10c-63186ce15238"
      },
      "execution_count": null,
      "outputs": [
        {
          "output_type": "execute_result",
          "data": {
            "text/plain": [
              "          Punto de Demanda 1  Punto de Demanda 2  Punto de Demanda 3  \\\n",
              "Planta 1                -0.0                -0.0                -0.0   \n",
              "Planta 2                80.0               270.0               150.0   \n",
              "Planta 3                -0.0                -0.0               100.0   \n",
              "\n",
              "          Punto de Demanda 4  Punto de Demanda 5  \n",
              "Planta 1                -0.0                -0.0  \n",
              "Planta 2                -0.0                -0.0  \n",
              "Planta 3               160.0               180.0  "
            ],
            "text/html": [
              "\n",
              "  <div id=\"df-6eca5c40-3ba0-4b1f-89af-03dafccc9b75\">\n",
              "    <div class=\"colab-df-container\">\n",
              "      <div>\n",
              "<style scoped>\n",
              "    .dataframe tbody tr th:only-of-type {\n",
              "        vertical-align: middle;\n",
              "    }\n",
              "\n",
              "    .dataframe tbody tr th {\n",
              "        vertical-align: top;\n",
              "    }\n",
              "\n",
              "    .dataframe thead th {\n",
              "        text-align: right;\n",
              "    }\n",
              "</style>\n",
              "<table border=\"1\" class=\"dataframe\">\n",
              "  <thead>\n",
              "    <tr style=\"text-align: right;\">\n",
              "      <th></th>\n",
              "      <th>Punto de Demanda 1</th>\n",
              "      <th>Punto de Demanda 2</th>\n",
              "      <th>Punto de Demanda 3</th>\n",
              "      <th>Punto de Demanda 4</th>\n",
              "      <th>Punto de Demanda 5</th>\n",
              "    </tr>\n",
              "  </thead>\n",
              "  <tbody>\n",
              "    <tr>\n",
              "      <th>Planta 1</th>\n",
              "      <td>-0.0</td>\n",
              "      <td>-0.0</td>\n",
              "      <td>-0.0</td>\n",
              "      <td>-0.0</td>\n",
              "      <td>-0.0</td>\n",
              "    </tr>\n",
              "    <tr>\n",
              "      <th>Planta 2</th>\n",
              "      <td>80.0</td>\n",
              "      <td>270.0</td>\n",
              "      <td>150.0</td>\n",
              "      <td>-0.0</td>\n",
              "      <td>-0.0</td>\n",
              "    </tr>\n",
              "    <tr>\n",
              "      <th>Planta 3</th>\n",
              "      <td>-0.0</td>\n",
              "      <td>-0.0</td>\n",
              "      <td>100.0</td>\n",
              "      <td>160.0</td>\n",
              "      <td>180.0</td>\n",
              "    </tr>\n",
              "  </tbody>\n",
              "</table>\n",
              "</div>\n",
              "      <button class=\"colab-df-convert\" onclick=\"convertToInteractive('df-6eca5c40-3ba0-4b1f-89af-03dafccc9b75')\"\n",
              "              title=\"Convert this dataframe to an interactive table.\"\n",
              "              style=\"display:none;\">\n",
              "        \n",
              "  <svg xmlns=\"http://www.w3.org/2000/svg\" height=\"24px\"viewBox=\"0 0 24 24\"\n",
              "       width=\"24px\">\n",
              "    <path d=\"M0 0h24v24H0V0z\" fill=\"none\"/>\n",
              "    <path d=\"M18.56 5.44l.94 2.06.94-2.06 2.06-.94-2.06-.94-.94-2.06-.94 2.06-2.06.94zm-11 1L8.5 8.5l.94-2.06 2.06-.94-2.06-.94L8.5 2.5l-.94 2.06-2.06.94zm10 10l.94 2.06.94-2.06 2.06-.94-2.06-.94-.94-2.06-.94 2.06-2.06.94z\"/><path d=\"M17.41 7.96l-1.37-1.37c-.4-.4-.92-.59-1.43-.59-.52 0-1.04.2-1.43.59L10.3 9.45l-7.72 7.72c-.78.78-.78 2.05 0 2.83L4 21.41c.39.39.9.59 1.41.59.51 0 1.02-.2 1.41-.59l7.78-7.78 2.81-2.81c.8-.78.8-2.07 0-2.86zM5.41 20L4 18.59l7.72-7.72 1.47 1.35L5.41 20z\"/>\n",
              "  </svg>\n",
              "      </button>\n",
              "      \n",
              "  <style>\n",
              "    .colab-df-container {\n",
              "      display:flex;\n",
              "      flex-wrap:wrap;\n",
              "      gap: 12px;\n",
              "    }\n",
              "\n",
              "    .colab-df-convert {\n",
              "      background-color: #E8F0FE;\n",
              "      border: none;\n",
              "      border-radius: 50%;\n",
              "      cursor: pointer;\n",
              "      display: none;\n",
              "      fill: #1967D2;\n",
              "      height: 32px;\n",
              "      padding: 0 0 0 0;\n",
              "      width: 32px;\n",
              "    }\n",
              "\n",
              "    .colab-df-convert:hover {\n",
              "      background-color: #E2EBFA;\n",
              "      box-shadow: 0px 1px 2px rgba(60, 64, 67, 0.3), 0px 1px 3px 1px rgba(60, 64, 67, 0.15);\n",
              "      fill: #174EA6;\n",
              "    }\n",
              "\n",
              "    [theme=dark] .colab-df-convert {\n",
              "      background-color: #3B4455;\n",
              "      fill: #D2E3FC;\n",
              "    }\n",
              "\n",
              "    [theme=dark] .colab-df-convert:hover {\n",
              "      background-color: #434B5C;\n",
              "      box-shadow: 0px 1px 3px 1px rgba(0, 0, 0, 0.15);\n",
              "      filter: drop-shadow(0px 1px 2px rgba(0, 0, 0, 0.3));\n",
              "      fill: #FFFFFF;\n",
              "    }\n",
              "  </style>\n",
              "\n",
              "      <script>\n",
              "        const buttonEl =\n",
              "          document.querySelector('#df-6eca5c40-3ba0-4b1f-89af-03dafccc9b75 button.colab-df-convert');\n",
              "        buttonEl.style.display =\n",
              "          google.colab.kernel.accessAllowed ? 'block' : 'none';\n",
              "\n",
              "        async function convertToInteractive(key) {\n",
              "          const element = document.querySelector('#df-6eca5c40-3ba0-4b1f-89af-03dafccc9b75');\n",
              "          const dataTable =\n",
              "            await google.colab.kernel.invokeFunction('convertToInteractive',\n",
              "                                                     [key], {});\n",
              "          if (!dataTable) return;\n",
              "\n",
              "          const docLinkHtml = 'Like what you see? Visit the ' +\n",
              "            '<a target=\"_blank\" href=https://colab.research.google.com/notebooks/data_table.ipynb>data table notebook</a>'\n",
              "            + ' to learn more about interactive tables.';\n",
              "          element.innerHTML = '';\n",
              "          dataTable['output_type'] = 'display_data';\n",
              "          await google.colab.output.renderOutput(dataTable, element);\n",
              "          const docLink = document.createElement('div');\n",
              "          docLink.innerHTML = docLinkHtml;\n",
              "          element.appendChild(docLink);\n",
              "        }\n",
              "      </script>\n",
              "    </div>\n",
              "  </div>\n",
              "  "
            ]
          },
          "metadata": {},
          "execution_count": 55
        }
      ]
    },
    {
      "cell_type": "markdown",
      "source": [
        "Para este caso cerramos la planta numero 1, por lo que nos queda que para minimizar los costos se va a distribuir la mercancia de las plantas a los puntos de demanda de la siguiente manera: la planta 2 cubrira toda la demanda del punto 1 (Cantidad total demanda y abastecida: 80) y punto 2 (Cantidad total demanda y abastecida: 270). Luego, para el punto de demanda 3, este sera cubierto por 150 de la planta 2 y 100 de la planta 3, por ultimo la planta 3 cubrira toda la demanda de el punto 4 (Cantidad total demanda y abastecida: 160) y el punto 5 (Cantidad total demanda y abastecida: 180). Con esto se alcanzaria el minimo costo posible que tendria que asumir la empresa en toda su operación."
      ],
      "metadata": {
        "id": "pXMh2ncBoIVY"
      }
    }
  ]
}